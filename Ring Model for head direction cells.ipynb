{
 "cells": [
  {
   "cell_type": "code",
   "execution_count": 26,
   "metadata": {},
   "outputs": [],
   "source": [
    "import math\n",
    "\n",
    "class HeadDirectedCell:\n",
    "\n",
    "    def __init__(self, init_angle, delta_angle):\n",
    "\n",
    "        # the angle from the animal head direction\n",
    "        self.angle = init_angle\n",
    "\n",
    "        # pai*(1/num of HD cells in ring)\n",
    "        self.delta_angle = delta_angle\n",
    "\n",
    "        # for printing and debug\n",
    "        self.angle_pi_advance = HeadDirectedCell.get_angles_pi_advance(init_angle)\n",
    "\n",
    "        # for plots\n",
    "        self.ret_memory = []\n",
    "\n",
    "        # current spik ret\n",
    "        self.ret = 0\n",
    "        self.set_ret()\n",
    "\n",
    "    @staticmethod\n",
    "    def add_to_angle(old, angle_to_add):\n",
    "\n",
    "        output = old + angle_to_add\n",
    "\n",
    "        if output >= 2 * math.pi or output <= -2 * math.pi:\n",
    "            output = output - 2*math.pi*int(output/(2*math.pi))\n",
    "\n",
    "        return output\n",
    "\n",
    "    @staticmethod\n",
    "    def get_angles_pi_advance(angle: int):\n",
    "        return angle/math.pi\n",
    "\n",
    "    def reset_ret_memory(self):\n",
    "        self.ret_memory = [self.ret]\n",
    "\n",
    "    def set_ret(self):\n",
    "        new_ret = max(0.0, math.cos(self.angle))\n",
    "        self.ret_memory.append(new_ret)\n",
    "        self.ret = new_ret\n",
    "\n",
    "    def set_angle(self, new_angle):\n",
    "        self.angle = new_angle\n",
    "        self.angle_pi_advance = HeadDirectedCell.get_angles_pi_advance(new_angle)\n",
    "        self.set_ret()\n",
    "\n",
    "    def increase_angel(self):\n",
    "        new_angle = HeadDirectedCell.add_to_angle(self.angle, self.delta_angle)\n",
    "        self.set_angle(new_angle)\n",
    "\n",
    "    def decrease_angel(self):\n",
    "        new_angle = HeadDirectedCell.add_to_angle(self.angle, -self.delta_angle)\n",
    "        self.set_angle(new_angle)\n",
    "        "
   ]
  },
  {
   "cell_type": "markdown",
   "metadata": {},
   "source": []
  },
  {
   "cell_type": "code",
   "execution_count": 3,
   "metadata": {},
   "outputs": [],
   "source": [
    "import abc\n",
    "import math\n",
    "\n",
    "\n",
    "class InterneuronCall:\n",
    "\n",
    "    def __init__(self, head_direction_call: HeadDirectedCell,\n",
    "                 angle_delta,\n",
    "                 transferring_threshold=0):\n",
    "\n",
    "        # init ret no movement\n",
    "        self.ret = 0\n",
    "\n",
    "        # cell to update\n",
    "        self.head_direction_call = head_direction_call\n",
    "\n",
    "        # 2pai*(1/num of HD cells in ring)\n",
    "        self.angle_delta = angle_delta\n",
    "\n",
    "        # ret point the cell can't transfer ret >= angle_delta\n",
    "        self.transferring_threshold = max(transferring_threshold, angle_delta)\n",
    "\n",
    "    @abc.abstractmethod\n",
    "    def increase_ret(self, amount):\n",
    "        \"\"\" update the head direction call until rat < transferring threshold \"\"\"\n",
    "        return\n",
    "\n",
    "\n",
    "class CWInterneuronCall(InterneuronCall):\n",
    "\n",
    "    def increase_ret(self, amount):\n",
    "\n",
    "        self.ret += amount\n",
    "\n",
    "        while self.ret >= self.transferring_threshold:\n",
    "            self.head_direction_call.decrease_angel()\n",
    "            self.ret -= self.angle_delta\n",
    "\n",
    "\n",
    "class CCWInterneuronCall(InterneuronCall):\n",
    "\n",
    "    def increase_ret(self, amount):\n",
    "\n",
    "        self.ret += amount\n",
    "\n",
    "        while self.ret >= self.transferring_threshold:\n",
    "            self.head_direction_call.increase_angel()\n",
    "            self.ret -= self.angle_delta\n"
   ]
  },
  {
   "cell_type": "code",
   "execution_count": 5,
   "metadata": {},
   "outputs": [],
   "source": [
    "def str_angle(angle):\n",
    "\n",
    "    advance = angle/math.pi\n",
    "    return str(advance) + \"pi\""
   ]
  },
  {
   "cell_type": "code",
   "execution_count": 9,
   "metadata": {},
   "outputs": [],
   "source": [
    "class SpeedCell:\n",
    "\n",
    "    @staticmethod\n",
    "    def add_current_to_channel(channel: [InterneuronCall], current_amount):\n",
    "\n",
    "        for cw_cell in channel:\n",
    "            cw_cell.increase_ret(current_amount)"
   ]
  },
  {
   "cell_type": "code",
   "execution_count": 14,
   "metadata": {},
   "outputs": [],
   "source": [
    "import matplotlib.pyplot as plt\n",
    "\n",
    "def get_cmap(n, name='hsv'):\n",
    "    '''Returns a function that maps each index in 0, 1, ..., n-1 to a distinct\n",
    "    RGB color; the keyword argument name must be a standard mpl colormap name.'''\n",
    "    return plt.cm.get_cmap(name, n)"
   ]
  },
  {
   "cell_type": "code",
   "execution_count": 21,
   "metadata": {},
   "outputs": [],
   "source": [
    "class Ring:\n",
    "\n",
    "    def __init__(self, neurons_amount):\n",
    "\n",
    "        self.neurons_amount = neurons_amount\n",
    "\n",
    "        self.speed_cell = SpeedCell()\n",
    "\n",
    "        self.head_direction_cells = self.create_head_cells_ring(neurons_amount)\n",
    "\n",
    "        self.right_channel = Ring.create_right_channel(self.head_direction_cells)\n",
    "\n",
    "        self.left_channel = Ring.create_left_channel(self.head_direction_cells)\n",
    "\n",
    "        self.head_index = 0\n",
    "\n",
    "    @staticmethod\n",
    "    def get_dela_angle(neurons_amount):\n",
    "        return (2*math.pi)/neurons_amount\n",
    "\n",
    "    @staticmethod\n",
    "    def create_head_cells_ring(neurons_amount: int):\n",
    "\n",
    "        head_cells_amount = neurons_amount\n",
    "        cells_list = []\n",
    "\n",
    "        next_neuron_angle = 0\n",
    "        dela_angle = Ring.get_dela_angle(head_cells_amount)\n",
    "\n",
    "        while next_neuron_angle < 2*math.pi:\n",
    "            cells_list.append(HeadDirectedCell(next_neuron_angle, dela_angle))\n",
    "            next_neuron_angle += dela_angle\n",
    "\n",
    "        return cells_list\n",
    "\n",
    "    @staticmethod\n",
    "    def create_right_channel(head_direction_cells: [HeadDirectedCell]):\n",
    "\n",
    "        cw_cells = []\n",
    "\n",
    "        for hd_cell in head_direction_cells:\n",
    "            cw_cells.append(CWInterneuronCall(hd_cell, hd_cell.delta_angle))\n",
    "\n",
    "        return cw_cells\n",
    "\n",
    "    @staticmethod\n",
    "    def create_left_channel(head_direction_cells: [HeadDirectedCell]):\n",
    "\n",
    "        ccw_cells = []\n",
    "\n",
    "        for hd_cell in head_direction_cells:\n",
    "            ccw_cells.append(CCWInterneuronCall(hd_cell, hd_cell.delta_angle))\n",
    "\n",
    "        return ccw_cells\n",
    "\n",
    "    def update_head_direction(self):\n",
    "\n",
    "        for i in range(self.neurons_amount):\n",
    "            if self.head_direction_cells[i].angle == 0:\n",
    "                self.head_index = i\n",
    "                return\n",
    "\n",
    "    def add_current_to_right_channel(self, current_amount):\n",
    "        self.speed_cell.add_current_to_channel(self.right_channel, current_amount)\n",
    "        self.update_head_direction()\n",
    "\n",
    "    def add_current_to_left_channel(self, current_amount):\n",
    "        self.speed_cell.add_current_to_channel(self.left_channel, current_amount)\n",
    "        self.update_head_direction()\n",
    "\n",
    "    def plot_ring_history(self):\n",
    "        colors = get_cmap(self.neurons_amount)\n",
    "\n",
    "        fig, axs = plt.subplots(self.neurons_amount, sharex=True, sharey=True)\n",
    "\n",
    "        dif_amount = len(self.head_direction_cells[0].ret_memory)\n",
    "        for i in range(self.neurons_amount):\n",
    "            axs[i].plot(range(dif_amount), self.head_direction_cells[i].ret_memory,\n",
    "                        color=colors(i))\n",
    "            axs[i].set(ylabel='n '+str(i))\n",
    "\n",
    "        plt.show()"
   ]
  },
  {
   "cell_type": "code",
   "execution_count": 24,
   "metadata": {},
   "outputs": [
    {
     "data": {
      "image/png": "[encoded data removed]",
      "text/plain": [
       "<Figure size 432x288 with 8 Axes>"
      ]
     },
     "metadata": {
      "needs_background": "light"
     },
     "output_type": "display_data"
    }
   ],
   "source": [
    "ring = Ring(8)\n",
    "ring.add_current_to_right_channel(2*math.pi)\n",
    "ring.plot_ring_history()"
   ]
  },
  {
   "cell_type": "code",
   "execution_count": 25,
   "metadata": {},
   "outputs": [
    {
     "data": {
      "image/png": "[encoded data removed]",
      "text/plain": [
       "<Figure size 432x288 with 8 Axes>"
      ]
     },
     "metadata": {
      "needs_background": "light"
     },
     "output_type": "display_data"
    }
   ],
   "source": [
    "ring.add_current_to_left_channel(math.pi)\n",
    "ring.plot_ring_history()"
   ]
  }
 ],
 "metadata": {
  "kernelspec": {
   "display_name": "Python 3",
   "language": "python",
   "name": "python3"
  },
  "language_info": {
   "codemirror_mode": {
    "name": "ipython",
    "version": 3
   },
   "file_extension": ".py",
   "mimetype": "text/x-python",
   "name": "python",
   "nbconvert_exporter": "python",
   "pygments_lexer": "ipython3",
   "version": "3.6.8"
  }
 },
 "nbformat": 4,
 "nbformat_minor": 2
}
